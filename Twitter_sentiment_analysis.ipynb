{
 "cells": [
  {
   "cell_type": "code",
   "execution_count": 146,
   "metadata": {},
   "outputs": [],
   "source": [
    "import os\n",
    "import tweepy as tw\n",
    "import pandas as pd\n",
    "import numpy as np\n",
    "import nltk\n",
    "from nltk.tokenize import word_tokenize\n",
    "from nltk.corpus import stopwords\n",
    "from sklearn.feature_extraction.text import TfidfVectorizer\n",
    "from sklearn.metrics.pairwise import cosine_similarity\n",
    "from sklearn.cluster import KMeans\n",
    "from sklearn.decomposition import PCA"
   ]
  },
  {
   "cell_type": "code",
   "execution_count": 147,
   "metadata": {},
   "outputs": [],
   "source": [
    "consumer_key= 'Kzzmf7XB9oZCv**********'\n",
    "consumer_secret= '*******************4ndkOgBVCCft2Xx8qyL3cA'\n",
    "access_token= '1263115900**************************************'\n",
    "access_token_secret= '0Ht7ZyTxvL04crIhBJl32CYHPYV*****************'"
   ]
  },
  {
   "cell_type": "code",
   "execution_count": null,
   "metadata": {},
   "outputs": [],
   "source": []
  },
  {
   "cell_type": "code",
   "execution_count": 148,
   "metadata": {},
   "outputs": [
    {
     "name": "stdout",
     "output_type": "stream",
     "text": [
      "[nltk_data] Downloading package stopwords to\n",
      "[nltk_data]     C:\\Users\\varlock^_^\\AppData\\Roaming\\nltk_data...\n",
      "[nltk_data]   Package stopwords is already up-to-date!\n"
     ]
    },
    {
     "data": {
      "text/plain": [
       "True"
      ]
     },
     "execution_count": 148,
     "metadata": {},
     "output_type": "execute_result"
    }
   ],
   "source": [
    "nltk.download(\"stopwords\")"
   ]
  },
  {
   "cell_type": "code",
   "execution_count": 149,
   "metadata": {},
   "outputs": [],
   "source": [
    "auth = tw.OAuthHandler(consumer_key, consumer_secret)\n",
    "auth.set_access_token(access_token, access_token_secret)\n",
    "api = tw.API(auth, wait_on_rate_limit=True)"
   ]
  },
  {
   "cell_type": "code",
   "execution_count": 150,
   "metadata": {},
   "outputs": [],
   "source": [
    "def Search(username):\n",
    "    for tweet in api.user_timeline(id=username, count=count):\n",
    "        myposts.append((tweet.created_at.strftime('%y-%m-%d %a %H:%M:%S'),tweet.user.screen_name,tweet.text))\n"
   ]
  },
  {
   "cell_type": "code",
   "execution_count": 151,
   "metadata": {},
   "outputs": [],
   "source": [
    "myposts=[]\n",
    "username = 'augustin3_jose'\n",
    "count = 10\n",
    "Search(username)\n",
    "df = pd.DataFrame(myposts,columns=['Date Posted','User Name','Tweet'])"
   ]
  },
  {
   "cell_type": "code",
   "execution_count": 152,
   "metadata": {},
   "outputs": [
    {
     "data": {
      "text/html": [
       "<div>\n",
       "<style scoped>\n",
       "    .dataframe tbody tr th:only-of-type {\n",
       "        vertical-align: middle;\n",
       "    }\n",
       "\n",
       "    .dataframe tbody tr th {\n",
       "        vertical-align: top;\n",
       "    }\n",
       "\n",
       "    .dataframe thead th {\n",
       "        text-align: right;\n",
       "    }\n",
       "</style>\n",
       "<table border=\"1\" class=\"dataframe\">\n",
       "  <thead>\n",
       "    <tr style=\"text-align: right;\">\n",
       "      <th></th>\n",
       "      <th>Date Posted</th>\n",
       "      <th>User Name</th>\n",
       "      <th>Tweet</th>\n",
       "    </tr>\n",
       "  </thead>\n",
       "  <tbody>\n",
       "    <tr>\n",
       "      <th>0</th>\n",
       "      <td>20-07-14 Tue 00:42:42</td>\n",
       "      <td>augustin3_jose</td>\n",
       "      <td>\"It is only when they go wrong that machines r...</td>\n",
       "    </tr>\n",
       "    <tr>\n",
       "      <th>1</th>\n",
       "      <td>20-07-14 Tue 00:38:49</td>\n",
       "      <td>augustin3_jose</td>\n",
       "      <td>VELD 2020 is the one I missed the most in 2020.</td>\n",
       "    </tr>\n",
       "    <tr>\n",
       "      <th>2</th>\n",
       "      <td>20-07-13 Mon 23:55:26</td>\n",
       "      <td>augustin3_jose</td>\n",
       "      <td>Sapiens: an awesome book on evolution.. stone-...</td>\n",
       "    </tr>\n",
       "    <tr>\n",
       "      <th>3</th>\n",
       "      <td>20-07-13 Mon 23:42:03</td>\n",
       "      <td>augustin3_jose</td>\n",
       "      <td>Sometimes https://t.co/C4qt2AQtPw helps me to ...</td>\n",
       "    </tr>\n",
       "    <tr>\n",
       "      <th>4</th>\n",
       "      <td>20-07-13 Mon 23:40:10</td>\n",
       "      <td>augustin3_jose</td>\n",
       "      <td>I think the present educational institutions c...</td>\n",
       "    </tr>\n",
       "    <tr>\n",
       "      <th>5</th>\n",
       "      <td>20-07-13 Mon 23:33:24</td>\n",
       "      <td>augustin3_jose</td>\n",
       "      <td>Suggest everyone to read Rich Dad Poor Dad: It...</td>\n",
       "    </tr>\n",
       "    <tr>\n",
       "      <th>6</th>\n",
       "      <td>20-07-13 Mon 23:30:41</td>\n",
       "      <td>augustin3_jose</td>\n",
       "      <td>Invest money now: The right time to invest mon...</td>\n",
       "    </tr>\n",
       "    <tr>\n",
       "      <th>7</th>\n",
       "      <td>20-07-13 Mon 23:29:24</td>\n",
       "      <td>augustin3_jose</td>\n",
       "      <td>White Paper: I would suggest to download and p...</td>\n",
       "    </tr>\n",
       "    <tr>\n",
       "      <th>8</th>\n",
       "      <td>20-07-13 Mon 23:21:56</td>\n",
       "      <td>augustin3_jose</td>\n",
       "      <td>The Big short: a must-watch movie right now..!</td>\n",
       "    </tr>\n",
       "    <tr>\n",
       "      <th>9</th>\n",
       "      <td>20-07-13 Mon 23:19:55</td>\n",
       "      <td>augustin3_jose</td>\n",
       "      <td>Quantum technology is an emerging field of phy...</td>\n",
       "    </tr>\n",
       "  </tbody>\n",
       "</table>\n",
       "</div>"
      ],
      "text/plain": [
       "             Date Posted       User Name  \\\n",
       "0  20-07-14 Tue 00:42:42  augustin3_jose   \n",
       "1  20-07-14 Tue 00:38:49  augustin3_jose   \n",
       "2  20-07-13 Mon 23:55:26  augustin3_jose   \n",
       "3  20-07-13 Mon 23:42:03  augustin3_jose   \n",
       "4  20-07-13 Mon 23:40:10  augustin3_jose   \n",
       "5  20-07-13 Mon 23:33:24  augustin3_jose   \n",
       "6  20-07-13 Mon 23:30:41  augustin3_jose   \n",
       "7  20-07-13 Mon 23:29:24  augustin3_jose   \n",
       "8  20-07-13 Mon 23:21:56  augustin3_jose   \n",
       "9  20-07-13 Mon 23:19:55  augustin3_jose   \n",
       "\n",
       "                                               Tweet  \n",
       "0  \"It is only when they go wrong that machines r...  \n",
       "1    VELD 2020 is the one I missed the most in 2020.  \n",
       "2  Sapiens: an awesome book on evolution.. stone-...  \n",
       "3  Sometimes https://t.co/C4qt2AQtPw helps me to ...  \n",
       "4  I think the present educational institutions c...  \n",
       "5  Suggest everyone to read Rich Dad Poor Dad: It...  \n",
       "6  Invest money now: The right time to invest mon...  \n",
       "7  White Paper: I would suggest to download and p...  \n",
       "8     The Big short: a must-watch movie right now..!  \n",
       "9  Quantum technology is an emerging field of phy...  "
      ]
     },
     "execution_count": 152,
     "metadata": {},
     "output_type": "execute_result"
    }
   ],
   "source": [
    "df"
   ]
  },
  {
   "cell_type": "code",
   "execution_count": 153,
   "metadata": {},
   "outputs": [],
   "source": [
    "#getting vectors from text using Tfidf\n",
    "def get_vectors(text):\n",
    "    #text = [t for t in str]\n",
    "    tfidf_vectorizer = TfidfVectorizer(text)\n",
    "    tfidf_vectorizer.fit(text)\n",
    "    return tfidf_vectorizer.transform(text).toarray()\n",
    "#text_1_array = tfidf_vectorizer.transform(tokens_without_sw_text_1).toarray()\n",
    "#text_1_array\n",
    "\n",
    "def get_cosine_sim(vectors):\n",
    "    return cosine_similarity(vectors)"
   ]
  },
  {
   "cell_type": "code",
   "execution_count": 154,
   "metadata": {},
   "outputs": [],
   "source": [
    "text = [t for t in df.Tweet]"
   ]
  },
  {
   "cell_type": "code",
   "execution_count": 155,
   "metadata": {},
   "outputs": [
    {
     "data": {
      "text/plain": [
       "array([[1.        , 0.06741184, 0.        , 0.06103794, 0.        ,\n",
       "        0.07184351, 0.05110424, 0.08881037, 0.        , 0.0198757 ],\n",
       "       [0.06741184, 1.        , 0.04773349, 0.        , 0.0772239 ,\n",
       "        0.03955016, 0.11176628, 0.        , 0.05830578, 0.06130051],\n",
       "       [0.        , 0.04773349, 1.        , 0.03591799, 0.06193225,\n",
       "        0.04369208, 0.04003677, 0.04129921, 0.02910858, 0.11289034],\n",
       "       [0.06103794, 0.        , 0.03591799, 1.        , 0.02905431,\n",
       "        0.02976028, 0.02727052, 0.05132474, 0.        , 0.12048631],\n",
       "       [0.        , 0.0772239 , 0.06193225, 0.02905431, 1.        ,\n",
       "        0.0513147 , 0.04702169, 0.03340722, 0.04709226, 0.02578673],\n",
       "       [0.07184351, 0.03955016, 0.04369208, 0.02976028, 0.0513147 ,\n",
       "        1.        , 0.03317295, 0.14280184, 0.02411826, 0.01320665],\n",
       "       [0.05110424, 0.11176628, 0.04003677, 0.02727052, 0.04702169,\n",
       "        0.03317295, 1.        , 0.03135618, 0.29095508, 0.03436953],\n",
       "       [0.08881037, 0.        , 0.04129921, 0.05132474, 0.03340722,\n",
       "        0.14280184, 0.03135618, 1.        , 0.        , 0.03463438],\n",
       "       [0.        , 0.05830578, 0.02910858, 0.        , 0.04709226,\n",
       "        0.02411826, 0.29095508, 0.        , 1.        , 0.01946956],\n",
       "       [0.0198757 , 0.06130051, 0.11289034, 0.12048631, 0.02578673,\n",
       "        0.01320665, 0.03436953, 0.03463438, 0.01946956, 1.        ]])"
      ]
     },
     "execution_count": 155,
     "metadata": {},
     "output_type": "execute_result"
    }
   ],
   "source": [
    "vectors = get_vectors(text) # getting vector\n",
    "cos_sim = get_cosine_sim(vectors) #cosine similarity\n",
    "cos_sim"
   ]
  },
  {
   "cell_type": "code",
   "execution_count": 156,
   "metadata": {},
   "outputs": [],
   "source": [
    "pca=PCA(n_components=2)"
   ]
  },
  {
   "cell_type": "code",
   "execution_count": 157,
   "metadata": {},
   "outputs": [
    {
     "data": {
      "text/plain": [
       "PCA(copy=True, iterated_power='auto', n_components=2, random_state=None,\n",
       "  svd_solver='auto', tol=0.0, whiten=False)"
      ]
     },
     "execution_count": 157,
     "metadata": {},
     "output_type": "execute_result"
    }
   ],
   "source": [
    "pca.fit(cos_sim)"
   ]
  },
  {
   "cell_type": "code",
   "execution_count": 158,
   "metadata": {},
   "outputs": [],
   "source": [
    "x_pca=pca.transform(cos_sim)"
   ]
  },
  {
   "cell_type": "code",
   "execution_count": 159,
   "metadata": {},
   "outputs": [
    {
     "data": {
      "text/plain": [
       "(10, 10)"
      ]
     },
     "execution_count": 159,
     "metadata": {},
     "output_type": "execute_result"
    }
   ],
   "source": [
    "cos_sim.shape"
   ]
  },
  {
   "cell_type": "code",
   "execution_count": 160,
   "metadata": {
    "scrolled": true
   },
   "outputs": [
    {
     "data": {
      "text/plain": [
       "(10, 2)"
      ]
     },
     "execution_count": 160,
     "metadata": {},
     "output_type": "execute_result"
    }
   ],
   "source": [
    "x_pca.shape #converted to 2 dimention"
   ]
  },
  {
   "cell_type": "code",
   "execution_count": 161,
   "metadata": {},
   "outputs": [
    {
     "data": {
      "text/plain": [
       "array([[-0.24713623, -0.39173644],\n",
       "       [ 0.20826311,  0.0615023 ],\n",
       "       [-0.12972199,  0.43672142],\n",
       "       [-0.34370291,  0.2936762 ],\n",
       "       [ 0.02501734,  0.11126726],\n",
       "       [-0.29100971, -0.46829393],\n",
       "       [ 0.67481576, -0.11617422],\n",
       "       [-0.40683919, -0.43156864],\n",
       "       [ 0.72906611, -0.0821803 ],\n",
       "       [-0.21875228,  0.58678635]])"
      ]
     },
     "execution_count": 161,
     "metadata": {},
     "output_type": "execute_result"
    }
   ],
   "source": [
    "x_pca"
   ]
  },
  {
   "cell_type": "code",
   "execution_count": 162,
   "metadata": {},
   "outputs": [],
   "source": [
    "kmeans=KMeans(n_clusters=4)"
   ]
  },
  {
   "cell_type": "code",
   "execution_count": 163,
   "metadata": {},
   "outputs": [
    {
     "data": {
      "text/plain": [
       "KMeans(algorithm='auto', copy_x=True, init='k-means++', max_iter=300,\n",
       "    n_clusters=4, n_init=10, n_jobs=1, precompute_distances='auto',\n",
       "    random_state=None, tol=0.0001, verbose=0)"
      ]
     },
     "execution_count": 163,
     "metadata": {},
     "output_type": "execute_result"
    }
   ],
   "source": [
    "kmeans.fit(x_pca)"
   ]
  },
  {
   "cell_type": "code",
   "execution_count": 164,
   "metadata": {},
   "outputs": [],
   "source": [
    "clusters=kmeans.cluster_centers_ #finding clusters"
   ]
  },
  {
   "cell_type": "code",
   "execution_count": 165,
   "metadata": {},
   "outputs": [
    {
     "name": "stdout",
     "output_type": "stream",
     "text": [
      "[[ 0.70194093 -0.09917726]\n",
      " [ 0.11664023  0.08638478]\n",
      " [-0.31499504 -0.43053301]\n",
      " [-0.23072573  0.43906133]]\n"
     ]
    }
   ],
   "source": [
    "print(clusters)"
   ]
  },
  {
   "cell_type": "code",
   "execution_count": null,
   "metadata": {},
   "outputs": [],
   "source": []
  }
 ],
 "metadata": {
  "kernelspec": {
   "display_name": "Python 3",
   "language": "python",
   "name": "python3"
  },
  "language_info": {
   "codemirror_mode": {
    "name": "ipython",
    "version": 3
   },
   "file_extension": ".py",
   "mimetype": "text/x-python",
   "name": "python",
   "nbconvert_exporter": "python",
   "pygments_lexer": "ipython3",
   "version": "3.7.4"
  }
 },
 "nbformat": 4,
 "nbformat_minor": 2
}
